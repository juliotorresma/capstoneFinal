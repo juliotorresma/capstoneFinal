{
 "cells": [
  {
   "cell_type": "code",
   "execution_count": 61,
   "id": "41c701ae",
   "metadata": {},
   "outputs": [
    {
     "data": {
      "text/plain": [
       "'/Users/julitorresma/opt/anaconda3/envs/capstone/lib/python3.10/site-packages/pyspark'"
      ]
     },
     "execution_count": 61,
     "metadata": {},
     "output_type": "execute_result"
    }
   ],
   "source": [
    "import findspark\n",
    "from pathlib import Path # Find certain directories.\n",
    "from pyspark.sql import SparkSession\n",
    "\n",
    "findspark.init()\n",
    "findspark.find()"
   ]
  },
  {
   "cell_type": "code",
   "execution_count": 62,
   "id": "049bc2ae",
   "metadata": {},
   "outputs": [],
   "source": [
    "spark = SparkSession \\\n",
    "        .builder \\\n",
    "        .appName(\"Python Spark SQL basic example\") \\\n",
    "        .config(\"spark.jars\", \"/Users/julitorresma/Desktop/capstoneFinal/postgresql-42.2.26.jre7.jar\") \\\n",
    "        .getOrCreate()"
   ]
  },
  {
   "cell_type": "markdown",
   "id": "3e546715",
   "metadata": {},
   "source": [
    "USEFULL FUNCTIONS"
   ]
  },
  {
   "cell_type": "code",
   "execution_count": 63,
   "id": "bb39f7e9",
   "metadata": {},
   "outputs": [],
   "source": [
    "def fecthForFiles(format):\n",
    "    pathlist = list( Path( '.' ).glob(f'**/*.{format}') )\n",
    "    filelist = sorted( [str(file) for file in pathlist] )\n",
    "    print(filelist)\n",
    "    return filelist\n",
    "\n",
    "def createJsonDataFrame(filelist):\n",
    "    for file in filelist:\n",
    "        df = spark.read.json(str(file))\n",
    "        df.printSchema()\n",
    "        df.show()\n",
    "    return df\n",
    "\n",
    "def createParquetDataFrame(filelist):\n",
    "    for file in filelist:\n",
    "        df = spark.read.parquet(str(file))\n",
    "        df.printSchema()\n",
    "        df.show()\n",
    "    return df\n",
    "\n",
    "def createRDBMsDataFrame(filelist):\n",
    "    df =[spark.read.options(header='True', inferSchema='True', delimiter=';').csv(file) for file in filelist]\n",
    "    for file in df:\n",
    "        file.printSchema()\n",
    "        file.show()\n",
    "    return df\n",
    "\n",
    "def writeToCsv(df):\n",
    "    #df.write.format(\"csv\").mode(\"overwrite\").save(\"filename.csv\")\n",
    "    pass"
   ]
  },
  {
   "cell_type": "markdown",
   "id": "f01e83a3",
   "metadata": {},
   "source": [
    "AQUI DEBAJO CREAMOS UNA SESION DE PYSPARK"
   ]
  },
  {
   "cell_type": "code",
   "execution_count": 64,
   "id": "aa067438",
   "metadata": {},
   "outputs": [],
   "source": [
    "#Create SparkSess\n",
    "#spark = SparkSession.builder.appName('aggs').getOrCreate()"
   ]
  },
  {
   "cell_type": "markdown",
   "id": "c94c5b57",
   "metadata": {},
   "source": [
    "### A CONINUACION SE ANALIZARA EL TREE DIRECTORY EN BUSCA DE ARCHIVOS .JSON, Y GUARDARE EL DATAFRAME PARA ANALIZARLO DESPUES"
   ]
  },
  {
   "cell_type": "code",
   "execution_count": 65,
   "id": "46124cee",
   "metadata": {},
   "outputs": [
    {
     "name": "stdout",
     "output_type": "stream",
     "text": [
      "['data_Generators/JSON/1664810460.538674.json']\n",
      "root\n",
      " |-- amount: long (nullable = true)\n",
      " |-- customer_first_name: string (nullable = true)\n",
      " |-- customer_last_name: string (nullable = true)\n",
      " |-- id: long (nullable = true)\n",
      " |-- ts: string (nullable = true)\n",
      " |-- type: long (nullable = true)\n",
      "\n",
      "+------+-------------------+------------------+---+-------------------+----+\n",
      "|amount|customer_first_name|customer_last_name| id|                 ts|type|\n",
      "+------+-------------------+------------------+---+-------------------+----+\n",
      "|  6156|             Cortez|              Howe| 35|01-12-2021T00:00:00|   0|\n",
      "| 68869|            Florrie|            Renner| 43|01-12-2021T00:05:00|   1|\n",
      "| 68017|             Damian|             Pagac| 90|01-12-2021T00:10:00|   0|\n",
      "| 90285|          Alexandra|            Barton| 13|01-12-2021T00:15:00|   0|\n",
      "| 25793|              Faron|          Bogisich| 97|01-12-2021T00:20:00|   1|\n",
      "| 32900|             Evonne|            Deckow| 31|01-12-2021T00:25:00|   0|\n",
      "| 83920|           Carolann|            Nienow| 53|01-12-2021T00:30:00|   1|\n",
      "| 38842|            Adaline|              Wiza| 41|01-12-2021T00:35:00|   1|\n",
      "| 43856|              Lucas|            Herzog| 20|01-12-2021T00:40:00|   1|\n",
      "| 28627|               Taya|             Wolff| 11|01-12-2021T00:45:00|   0|\n",
      "| 17517|             Gretta|            Brakus| 56|01-12-2021T00:50:00|   0|\n",
      "| 47359|              Ansel|           Waelchi| 12|01-12-2021T00:55:00|   1|\n",
      "| 34245|               Olof|           Friesen| 16|01-12-2021T01:00:00|   0|\n",
      "| 61326|              Grove|             Kutch| 85|01-12-2021T01:05:00|   0|\n",
      "| 73230|            Tristen|         Bechtelar| 33|01-12-2021T01:10:00|   0|\n",
      "| 61383|           Marcello|              Bode| 15|01-12-2021T01:15:00|   0|\n",
      "| 33477|         Alexandria|            Kirlin| 67|01-12-2021T01:20:00|   1|\n",
      "| 56552|            Seymour|           Schmitt| 72|01-12-2021T01:25:00|   0|\n",
      "| 21248|             Portia|           Steuber| 50|01-12-2021T01:30:00|   1|\n",
      "| 25338|           Kendrick|            Turner|  1|01-12-2021T01:35:00|   0|\n",
      "+------+-------------------+------------------+---+-------------------+----+\n",
      "only showing top 20 rows\n",
      "\n"
     ]
    }
   ],
   "source": [
    "json_files = fecthForFiles(\"json\")\n",
    "json_df = createJsonDataFrame(json_files)"
   ]
  },
  {
   "cell_type": "markdown",
   "id": "e8994b83",
   "metadata": {},
   "source": [
    "### A CONINUACION SE ANALIZARA EL TREE DIRECTORY EN BUSCA DE ARCHIVOS .parquet, Y GUARDARE EL DATAFRAME PARA ANALIZARLO DESPUES"
   ]
  },
  {
   "cell_type": "code",
   "execution_count": 66,
   "id": "50fdce47",
   "metadata": {},
   "outputs": [
    {
     "name": "stdout",
     "output_type": "stream",
     "text": [
      "['data_Generators/Parquet/1664914433.706864.parquet']\n",
      "root\n",
      " |-- Id: long (nullable = true)\n",
      " |-- First_name: string (nullable = true)\n",
      " |-- Last_name: string (nullable = true)\n",
      " |-- Amount: long (nullable = true)\n",
      " |-- ts: string (nullable = true)\n",
      " |-- Store_id: long (nullable = true)\n",
      "\n",
      "+---+----------+------------+------+-------------------+--------+\n",
      "| Id|First_name|   Last_name|Amount|                 ts|Store_id|\n",
      "+---+----------+------------+------+-------------------+--------+\n",
      "|106|   Lucille|      Erdman|  6156|01-12-2021T00:00:00|      17|\n",
      "|114|       Edd|     Bartell| 68869|01-12-2021T00:05:00|       6|\n",
      "|103|  Citlalli|        Ryan| 68017|01-12-2021T00:10:00|      12|\n",
      "|145|     Ivory|    Thompson| 90285|01-12-2021T00:15:00|      18|\n",
      "|142|  Brittney|Christiansen| 25793|01-12-2021T00:20:00|       6|\n",
      "|148|     Karel|  Balistreri| 32900|01-12-2021T00:25:00|      16|\n",
      "|113|   Roderic|    McKenzie| 83920|01-12-2021T00:30:00|       4|\n",
      "|127|   Triston|     Abshire| 38842|01-12-2021T00:35:00|      15|\n",
      "|193|    Angela|    Anderson| 43856|01-12-2021T00:40:00|       6|\n",
      "|169|    Lauryn|        Hane| 28627|01-12-2021T00:45:00|      20|\n",
      "|194|    Kierra|      Heaney| 17517|01-12-2021T00:50:00|       8|\n",
      "|133|     Makai|    Johnston| 47359|01-12-2021T00:55:00|      12|\n",
      "|164|     Ludie| Cruickshank| 34245|01-12-2021T01:00:00|      11|\n",
      "|140|     Jamal|      Larkin| 61326|01-12-2021T01:05:00|       1|\n",
      "|149|     Rubin|       Berge| 73230|01-12-2021T01:10:00|      19|\n",
      "|182|   Carmelo|    Reynolds| 61383|01-12-2021T01:15:00|      17|\n",
      "|120|     Dario|       Sauer| 33477|01-12-2021T01:20:00|      16|\n",
      "|117|     Elena|      Corwin| 56552|01-12-2021T01:25:00|      20|\n",
      "|102|   Adeline|     Schmidt| 21248|01-12-2021T01:30:00|       4|\n",
      "|198|    Edward|    Franecki| 25338|01-12-2021T01:35:00|      11|\n",
      "+---+----------+------------+------+-------------------+--------+\n",
      "only showing top 20 rows\n",
      "\n"
     ]
    }
   ],
   "source": [
    "parquet_files = fecthForFiles(\"parquet\")\n",
    "parquet_df = createParquetDataFrame(parquet_files)"
   ]
  },
  {
   "cell_type": "code",
   "execution_count": 67,
   "id": "7e15531e",
   "metadata": {},
   "outputs": [
    {
     "name": "stdout",
     "output_type": "stream",
     "text": [
      "['data_Generators/RDBMS/capstone.Customer.csv', 'data_Generators/RDBMS/capstone.Transaction.csv']\n",
      "root\n",
      " |-- id: integer (nullable = true)\n",
      " |-- first_name: string (nullable = true)\n",
      " |-- last_name: string (nullable = true)\n",
      " |-- phone_number: double (nullable = true)\n",
      " |-- address: string (nullable = true)\n",
      "\n",
      "+---+--------------------+--------------------+-----------------+--------------------+\n",
      "| id|          first_name|           last_name|     phone_number|             address|\n",
      "+---+--------------------+--------------------+-----------------+--------------------+\n",
      "|  6|Rosaria          ...|Hand             ...| 6.44758406345E11|Lake Tylerland   ...|\n",
      "| 40|Markita          ...|Buckridge        ...|1.321019445488E12|Lindseyshire     ...|\n",
      "| 29|Amiyah           ...|Metz             ...|3.309075042478E12|Rodneyborough    ...|\n",
      "| 42|Marybelle        ...|Lockman          ...|  3.2959120676E10|Lake Rogerfurt   ...|\n",
      "| 88|Danielle         ...|Fritsch          ...| 3.71744633339E11|Sherriport       ...|\n",
      "| 60|Zula             ...|Treutel          ...|5.515369468956E12|North Melissaview...|\n",
      "| 50|Sommer           ...|Johnston         ...|5.782914029739E12|Sherriport       ...|\n",
      "| 19|Baylee           ...|Wilkinson        ...|9.164370976367E12|Lake Elizabeth   ...|\n",
      "| 49|Lesley           ...|Lebsack          ...|8.728596681539E12|Lake Cynthiaport ...|\n",
      "|100|Maud             ...|Klein            ...|1.617970573502E12|Frostborough     ...|\n",
      "| 28|Joslyn           ...|Goyette          ...| 1.62269845879E12|Jasonfort        ...|\n",
      "| 75|Blaine           ...|Mitchell         ...| 8.08694961237E12|South Ashleychest...|\n",
      "| 20|Stephanie        ...|Heathcote        ...|5.813968420741E12|North Teresastad ...|\n",
      "| 63|Destiny          ...|Lueilwitz        ...|7.253751258761E12|North Melissaview...|\n",
      "| 89|Eboni            ...|Hermann          ...|1.914390256435E12|Lake Kathryn     ...|\n",
      "| 81|Haskell          ...|Funk             ...| 9.34456146027E12|Lake Rogerfurt   ...|\n",
      "| 26|Shavon           ...|Abbott           ...|9.088740823515E12|Frostborough     ...|\n",
      "| 95|Margarett        ...|Green            ...|3.485865251027E12|Lake Lauraborough...|\n",
      "| 66|Norah            ...|Cummings         ...|3.452531461725E12|Rodneyborough    ...|\n",
      "| 15|Lyndia           ...|Wolf             ...|2.254204723105E12|Lake Cynthiaport ...|\n",
      "+---+--------------------+--------------------+-----------------+--------------------+\n",
      "only showing top 20 rows\n",
      "\n",
      "root\n",
      " |-- id: integer (nullable = true)\n",
      " |-- customer_id: integer (nullable = true)\n",
      " |-- transaction_ts: string (nullable = true)\n",
      " |-- amount: integer (nullable = true)\n",
      "\n",
      "+---+-----------+--------------------+------+\n",
      "| id|customer_id|      transaction_ts|amount|\n",
      "+---+-----------+--------------------+------+\n",
      "|  6|         84|01-12-2021T00:00:...|  6156|\n",
      "| 40|         65|01-12-2021T00:05:...| 68869|\n",
      "| 29|         88|01-12-2021T00:10:...| 68017|\n",
      "| 42|          1|01-12-2021T00:15:...| 90285|\n",
      "| 88|         28|01-12-2021T00:20:...| 25793|\n",
      "| 60|         77|01-12-2021T00:25:...| 32900|\n",
      "| 50|         12|01-12-2021T00:30:...| 83920|\n",
      "| 19|         45|01-12-2021T00:35:...| 38842|\n",
      "| 49|          8|01-12-2021T00:40:...| 43856|\n",
      "|100|         60|01-12-2021T00:45:...| 28627|\n",
      "| 28|         71|01-12-2021T00:50:...| 17517|\n",
      "| 75|         68|01-12-2021T00:55:...| 47359|\n",
      "| 20|         47|01-12-2021T01:00:...| 34245|\n",
      "| 63|         74|01-12-2021T01:05:...| 61326|\n",
      "| 89|         42|01-12-2021T01:10:...| 73230|\n",
      "| 81|         87|01-12-2021T01:15:...| 61383|\n",
      "| 26|         54|01-12-2021T01:20:...| 33477|\n",
      "| 95|         80|01-12-2021T01:25:...| 56552|\n",
      "| 66|         40|01-12-2021T01:30:...| 21248|\n",
      "| 15|         30|01-12-2021T01:35:...| 25338|\n",
      "+---+-----------+--------------------+------+\n",
      "only showing top 20 rows\n",
      "\n"
     ]
    }
   ],
   "source": [
    "csv_files = fecthForFiles(\"csv\")\n",
    "rdbms_df1, rdbms_df2 = createRDBMsDataFrame(csv_files)"
   ]
  },
  {
   "cell_type": "code",
   "execution_count": null,
   "id": "f6fb1106",
   "metadata": {},
   "outputs": [],
   "source": []
  }
 ],
 "metadata": {
  "kernelspec": {
   "display_name": "Python 3 (ipykernel)",
   "language": "python",
   "name": "python3"
  },
  "language_info": {
   "codemirror_mode": {
    "name": "ipython",
    "version": 3
   },
   "file_extension": ".py",
   "mimetype": "text/x-python",
   "name": "python",
   "nbconvert_exporter": "python",
   "pygments_lexer": "ipython3",
   "version": "3.10.4"
  }
 },
 "nbformat": 4,
 "nbformat_minor": 5
}
